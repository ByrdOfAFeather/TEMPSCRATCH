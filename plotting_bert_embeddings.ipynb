{
 "cells": [
  {
   "cell_type": "code",
   "execution_count": 1,
   "outputs": [
    {
     "name": "stderr",
     "output_type": "stream",
     "text": [
      "Using custom data configuration TEMPSCRATCH-8288c2084349c91c\n",
      "Reusing dataset csv (/home/byrdofafeather/.cache/huggingface/datasets/csv/TEMPSCRATCH-8288c2084349c91c/0.0.0/51cce309a08df9c4d82ffd9363bbe090bf173197fc01a71b034e8594995a1a58)\n"
     ]
    },
    {
     "data": {
      "text/plain": "  0%|          | 0/1 [00:00<?, ?it/s]",
      "application/vnd.jupyter.widget-view+json": {
       "version_major": 2,
       "version_minor": 0,
       "model_id": "ec0cb9adb1c74068805d30ad3871dc98"
      }
     },
     "metadata": {},
     "output_type": "display_data"
    },
    {
     "name": "stdout",
     "output_type": "stream",
     "text": [
      "DatasetDict({\n",
      "    train: Dataset({\n",
      "        features: ['Unnamed: 0', '0', '1'],\n",
      "        num_rows: 5249\n",
      "    })\n",
      "})\n"
     ]
    }
   ],
   "source": [
    "import datasets\n",
    "import umap as umap\n",
    "\n",
    "data = datasets.load_dataset(\"/home/byrdofafeather/ByrdOfAFeather/TEMPSCRATCH\", data_files={\"train\": \"final.csv\"})\n",
    "print(data)"
   ],
   "metadata": {
    "collapsed": false,
    "pycharm": {
     "name": "#%%\n"
    }
   }
  },
  {
   "cell_type": "code",
   "execution_count": 2,
   "outputs": [
    {
     "name": "stderr",
     "output_type": "stream",
     "text": [
      "Some weights of the model checkpoint at bert-base-uncased were not used when initializing BertModel: ['cls.seq_relationship.weight', 'cls.predictions.transform.LayerNorm.weight', 'cls.predictions.transform.dense.bias', 'cls.predictions.transform.dense.weight', 'cls.predictions.transform.LayerNorm.bias', 'cls.predictions.bias', 'cls.seq_relationship.bias', 'cls.predictions.decoder.weight']\n",
      "- This IS expected if you are initializing BertModel from the checkpoint of a model trained on another task or with another architecture (e.g. initializing a BertForSequenceClassification model from a BertForPreTraining model).\n",
      "- This IS NOT expected if you are initializing BertModel from the checkpoint of a model that you expect to be exactly identical (initializing a BertForSequenceClassification model from a BertForSequenceClassification model).\n"
     ]
    }
   ],
   "source": [
    "from transformers import AutoTokenizer, AutoModel\n",
    "\n",
    "tokenizer = AutoTokenizer.from_pretrained(\"bert-base-uncased\")\n",
    "model = AutoModel.from_pretrained(\"bert-base-uncased\").cuda()"
   ],
   "metadata": {
    "collapsed": false,
    "pycharm": {
     "name": "#%%\n"
    }
   }
  },
  {
   "cell_type": "code",
   "execution_count": 3,
   "outputs": [
    {
     "name": "stderr",
     "output_type": "stream",
     "text": [
      "100%|██████████| 657/657 [02:35<00:00,  4.22it/s]\n"
     ]
    }
   ],
   "source": [
    "import pandas as pd\n",
    "import json\n",
    "import tqdm\n",
    "\n",
    "embeds = []\n",
    "labels = {'0': [], '1': []}\n",
    "batch_size = 8\n",
    "for idx in tqdm.tqdm(range(0, len(data['train']['0']), batch_size)):\n",
    "\ttokenized = tokenizer(data['train']['0'][idx: idx+batch_size], return_tensors=\"pt\", truncation=True, padding=True)\n",
    "\tfor key, value in tokenized.items():\n",
    "\t\ttokenized[key] = value.cuda()\n",
    "\tembeds.append(pd.DataFrame(model(**tokenized)[0][:, 0, :].detach().cpu().flatten().numpy().reshape(768, len(data[\"train\"][\"0\"][idx:idx+batch_size])), index=list(range(768)), columns=[idx + n for n in range(len(data[\"train\"][\"0\"][idx:idx+batch_size]))]).transpose())\n",
    "\tfor sub_idx in range(0, len(data[\"train\"][\"0\"][idx:idx+batch_size])):\n",
    "\t\tlabels[str(data['train']['1'][idx+sub_idx])].append(idx+sub_idx)\n",
    "\n",
    "embeds = pd.concat(embeds)\n",
    "embeds.to_csv(\"all.csv\")\n",
    "with open(f\"all_indicies.json\", 'w') as f:\n",
    "\tjson.dump(labels, f)\n"
   ],
   "metadata": {
    "collapsed": false,
    "pycharm": {
     "name": "#%%\n"
    }
   }
  },
  {
   "cell_type": "code",
   "execution_count": 7,
   "outputs": [
    {
     "name": "stdout",
     "output_type": "stream",
     "text": [
      "(5249, 769)\n",
      "here\n"
     ]
    },
    {
     "data": {
      "text/plain": "<Figure size 432x288 with 1 Axes>",
      "image/png": "[encoded data removed]"
     },
     "metadata": {
      "needs_background": "light"
     },
     "output_type": "display_data"
    }
   ],
   "source": [
    "import pandas as pd\n",
    "import matplotlib.pyplot as plt\n",
    "import umap\n",
    "import json\n",
    "\n",
    "all_vectors = pd.read_csv(\"all.csv\")\n",
    "print(all_vectors.shape)\n",
    "print(\"here\")\n",
    "mapper = umap.UMAP(random_state=225530)\n",
    "umap_reduced = mapper.fit_transform(all_vectors.values[:, 1:])\n",
    "\n",
    "def plot_by_class(vectors=umap_reduced, only_use=\"\", index_mapping={}):\n",
    "\twith open(\"all_indicies.json\", 'r') as f:\n",
    "\t\tbert_vectors = json.load(f)\n",
    "\tcolors = ['b', 'g', 'r', 'purple']\n",
    "\tcolor_idx = 0\n",
    "\tfor key, value in bert_vectors.items():\n",
    "\t\tif only_use:\n",
    "\t\t\tif only_use not in key: continue\n",
    "\t\tif index_mapping:\n",
    "\t\t\tplt.scatter(vectors[[index_mapping[i] for i in value], 0], vectors[[index_mapping[i] for i in value], 1], color=colors[color_idx], label=key, s=5)\n",
    "\t\telse:\n",
    "\t\t\tplt.scatter(vectors[value, 0], vectors[value, 1], color=colors[color_idx], label=key, s=5)\n",
    "\t\tcolor_idx += 1\n",
    "\tplt.legend()\n",
    "\tplt.show()\n",
    "\n",
    "\n",
    "plt.title(\"REDUCED BERT VECTORS\")\n",
    "plot_by_class()"
   ],
   "metadata": {
    "collapsed": false,
    "pycharm": {
     "name": "#%%\n"
    }
   }
  },
  {
   "cell_type": "code",
   "execution_count": 4,
   "outputs": [],
   "source": [],
   "metadata": {
    "collapsed": false,
    "pycharm": {
     "name": "#%%\n"
    }
   }
  }
 ],
 "metadata": {
  "kernelspec": {
   "display_name": "Python 3",
   "language": "python",
   "name": "python3"
  },
  "language_info": {
   "codemirror_mode": {
    "name": "ipython",
    "version": 2
   },
   "file_extension": ".py",
   "mimetype": "text/x-python",
   "name": "python",
   "nbconvert_exporter": "python",
   "pygments_lexer": "ipython2",
   "version": "2.7.6"
  }
 },
 "nbformat": 4,
 "nbformat_minor": 0
}